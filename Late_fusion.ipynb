{
 "cells": [
  {
   "cell_type": "code",
   "execution_count": 32,
   "id": "afabbded",
   "metadata": {},
   "outputs": [],
   "source": [
    "import os\n",
    "import numpy as np\n",
    "import matplotlib.pyplot as plt\n",
    "from PIL import Image\n",
    "from skimage.feature import hog\n",
    "from skimage.io import imread\n",
    "from skimage.transform import rescale, resize\n",
    "from tqdm import tqdm\n",
    "from sklearn.preprocessing import Normalizer\n",
    "from sklearn.model_selection import train_test_split\n",
    "from sklearn.metrics import accuracy_score"
   ]
  },
  {
   "cell_type": "markdown",
   "source": [
    "## Fusion Tardive\n",
    "L'objectif de ce notebook est de tester nos résultats en utilisant une technique de fusion tardive.\n",
    "Le principe est d'utiliser plusieurs classifieurs pour prédire la classe d'uned'image puis de procéder à un vote majoritaire afin de fusionner les prédictions"
   ],
   "metadata": {
    "collapsed": false,
    "pycharm": {
     "name": "#%% md\n"
    }
   }
  },
  {
   "cell_type": "markdown",
   "id": "e0958f3b",
   "metadata": {},
   "source": [
    "## Représentation des données\n",
    "X : liste de noms de fichiers\n",
    "y : 1 s'il s'agit d'une image de mer, 0 sinon"
   ]
  },
  {
   "cell_type": "code",
   "execution_count": 33,
   "outputs": [
    {
     "name": "stderr",
     "output_type": "stream",
     "text": [
      "100%|██████████| 249/249 [00:00<00:00, 1052804.13it/s]\n",
      "100%|██████████| 246/246 [00:00<00:00, 2850272.88it/s]\n"
     ]
    }
   ],
   "source": [
    "X = []\n",
    "y = []\n",
    "for file in tqdm(os.listdir(\"./Data/Ailleurs\")):\n",
    "    X.append(\"./Data/Ailleurs/\" + file)\n",
    "    y.append(0)\n",
    "for file in tqdm(os.listdir(\"./Data/Mer\")):\n",
    "    X.append(\"./Data/Mer/\" + file)\n",
    "    y.append(1)"
   ],
   "metadata": {
    "collapsed": false,
    "pycharm": {
     "name": "#%%\n"
    }
   }
  },
  {
   "cell_type": "markdown",
   "source": [
    "Les dictionnaires suivants ont pour clés un nom de fichier et pour valeur une représentation de ce fichier"
   ],
   "metadata": {
    "collapsed": false,
    "pycharm": {
     "name": "#%% md\n"
    }
   }
  },
  {
   "cell_type": "code",
   "execution_count": 34,
   "outputs": [
    {
     "name": "stderr",
     "output_type": "stream",
     "text": [
      "100%|██████████| 495/495 [00:03<00:00, 128.32it/s]\n"
     ]
    }
   ],
   "source": [
    "histogram_representation = {}\n",
    "for file in tqdm(X):\n",
    "    image = Image.open(file)\n",
    "    image = image.convert(\"RGB\")\n",
    "    image = image.resize((500,750))\n",
    "    image = image.crop((0, 250, 500, 750))\n",
    "    r, g, b = image.split()\n",
    "    histogram_representation[file] = b.histogram()"
   ],
   "metadata": {
    "collapsed": false,
    "pycharm": {
     "name": "#%%\n"
    }
   }
  },
  {
   "cell_type": "code",
   "execution_count": 35,
   "outputs": [
    {
     "name": "stderr",
     "output_type": "stream",
     "text": [
      "100%|██████████| 495/495 [00:35<00:00, 13.96it/s]\n"
     ]
    }
   ],
   "source": [
    "hog_representation = {}\n",
    "for file in tqdm(X):\n",
    "    image = imread(file, as_gray=True)\n",
    "    image = resize(image, (1200, 1200))\n",
    "    image = rescale(image, 1/3, mode='reflect')\n",
    "    img_hog = hog(image, orientations=16, pixels_per_cell=(16,16),\n",
    "                    cells_per_block=(1,1), feature_vector=True, block_norm='L2')\n",
    "    hog_representation[file] = img_hog"
   ],
   "metadata": {
    "collapsed": false,
    "pycharm": {
     "name": "#%%\n"
    }
   }
  },
  {
   "cell_type": "code",
   "execution_count": 36,
   "outputs": [
    {
     "name": "stderr",
     "output_type": "stream",
     "text": [
      "100%|██████████| 495/495 [03:43<00:00,  2.21it/s]\n"
     ]
    }
   ],
   "source": [
    "from skimage.color import rgb2hsv, rgb2gray\n",
    "from skimage.feature import canny\n",
    "from skimage.transform import probabilistic_hough_line\n",
    "\n",
    "# bleues : 150 -> 240; verts : 75 -> 150; jaunes : 30 -> 65\n",
    "def color_perc(imarray_rgb, lt, ht):\n",
    "    # calcul du pourcentage de bleu à l'aide d'un masque\n",
    "    imarray_rgb = imarray_rgb[:, :, :3]\n",
    "    imarray_hue = rgb2hsv(imarray_rgb)[:, :, 0] * 360\n",
    "    nb_px = imarray_hue.shape[0] * imarray_hue.shape[1]\n",
    "    return np.sum(((imarray_hue > lt) & (imarray_hue < ht)).astype(int)) / nb_px\n",
    "\n",
    "\n",
    "# rouges: 300 -> 360, 0 -> 30;\n",
    "def red_perc(imarray_rgb):\n",
    "    imarray_rgb = imarray_rgb[:, :, :3]\n",
    "    imarray_hue = rgb2hsv(imarray_rgb)[:, :, 0] * 360\n",
    "    nb_px = imarray_hue.shape[0] * imarray_hue.shape[1]\n",
    "    return np.sum(((imarray_hue > 310) | (imarray_hue < 35)).astype(int)) / nb_px\n",
    "\n",
    "def angle_to_hori(p1, p2):\n",
    "    # source : https://stackoverflow.com/questions/7586063/how-to-calculate-the-angle-between-a-line-and-the-horizontal-axis\n",
    "    dx = p2[0] - p1[0]\n",
    "    dy = p2[1] - p1[1]\n",
    "    theta = np.arctan2(dy, dx)\n",
    "    return np.degrees(theta)\n",
    "\n",
    "def compute_hvt_props(imarray):\n",
    "    \"\"\"\n",
    "    Nécessite une image en mode gris\n",
    "    \"\"\"\n",
    "    # source : https://scikit-image.org/docs/stable/auto_examples/edges/plot_line_hough_transform.html\n",
    "    canny_imarray = canny(imarray, 5, 1, 19)  # filtre pour retrouver les contours\n",
    "    lines = probabilistic_hough_line(canny_imarray, threshold=10, line_length=25, line_gap=10)\n",
    "    h, v, t = 0, 0, 0\n",
    "    for p0, p1 in lines:\n",
    "        angle = np.abs(angle_to_hori(p0, p1))\n",
    "        if 60 <= angle <= 120 or 240 <= angle <= 300:\n",
    "            v += 1\n",
    "        elif 0 <= angle <= 20 or 340 <= angle <= 360 or 160 <= angle <= 200:\n",
    "            h += 1\n",
    "        else:\n",
    "            t += 1\n",
    "    tot = len(lines) + 1\n",
    "    return h / tot, v / tot, t / tot, canny_imarray\n",
    "\n",
    "horizontality_representation = {}\n",
    "for file in tqdm(X):\n",
    "    imarray = resize(imread(file), (800, 800), anti_aliasing=True)\n",
    "    b_perc = color_perc(imarray[250:, :], 175, 280)\n",
    "    g_perc = color_perc(imarray[:, :], 70, 170)\n",
    "    r_per = red_perc(imarray)\n",
    "    imarray_l = rgb2gray(imarray[:, :, :3]) * 255\n",
    "    # im_blurred = nd.median_filter(imarray_l, size=13)\n",
    "    h, v, t, _ = compute_hvt_props(imarray_l[150:,:])\n",
    "    horizontality_representation[file] = [g_perc, b_perc, r_per, h, v, t]"
   ],
   "metadata": {
    "collapsed": false,
    "pycharm": {
     "name": "#%%\n"
    }
   }
  },
  {
   "cell_type": "markdown",
   "source": [
    "## Classifieurs à fusionner"
   ],
   "metadata": {
    "collapsed": false,
    "pycharm": {
     "name": "#%% md\n"
    }
   }
  },
  {
   "cell_type": "code",
   "execution_count": 52,
   "outputs": [],
   "source": [
    "from sklearn.ensemble import RandomForestClassifier\n",
    "from sklearn.svm import SVC\n",
    "\n",
    "clf_hist = RandomForestClassifier(max_depth=5, min_samples_split=5)\n",
    "clf_hog = SVC(gamma='auto')\n",
    "clf_horizontality = RandomForestClassifier(criterion='entropy', max_depth=5, min_samples_split=5)"
   ],
   "metadata": {
    "collapsed": false,
    "pycharm": {
     "name": "#%%\n"
    }
   }
  },
  {
   "cell_type": "markdown",
   "source": [
    "## Association classifieur et dictionnaire de représentation des données"
   ],
   "metadata": {
    "collapsed": false,
    "pycharm": {
     "name": "#%% md\n"
    }
   }
  },
  {
   "cell_type": "code",
   "execution_count": 47,
   "outputs": [],
   "source": [
    "classifieurs = {clf_hist: histogram_representation,\n",
    "                clf_hog : hog_representation,\n",
    "                clf_horizontality : horizontality_representation}"
   ],
   "metadata": {
    "collapsed": false,
    "pycharm": {
     "name": "#%%\n"
    }
   }
  },
  {
   "cell_type": "markdown",
   "source": [
    "## Fonction pour fusionner les classes prédites"
   ],
   "metadata": {
    "collapsed": false,
    "pycharm": {
     "name": "#%% md\n"
    }
   }
  },
  {
   "cell_type": "code",
   "execution_count": 39,
   "outputs": [],
   "source": [
    "def majority_voting(predicted_ys):\n",
    "    y_majority = []\n",
    "    for i in range(len(y_test)):\n",
    "        nb_0 = 0\n",
    "        nb_1 = 0\n",
    "        for pred in predicted_ys:\n",
    "            if pred[i] == 0:\n",
    "                nb_0 += 1\n",
    "            else:\n",
    "                nb_1 += 1\n",
    "        if nb_0 > nb_1:\n",
    "            y_majority.append(0)\n",
    "        else:\n",
    "            y_majority.append(1)\n",
    "    return y_majority"
   ],
   "metadata": {
    "collapsed": false,
    "pycharm": {
     "name": "#%%\n"
    }
   }
  },
  {
   "cell_type": "markdown",
   "source": [
    "## Résultats"
   ],
   "metadata": {
    "collapsed": false,
    "pycharm": {
     "name": "#%% md\n"
    }
   }
  },
  {
   "cell_type": "code",
   "execution_count": 1,
   "outputs": [],
   "source": [
    "def plot_results(clf_scores):\n",
    "    fig, (ax1, ax2) = plt.subplots(1, 2, figsize=(20,5))\n",
    "    fig.suptitle('Résultats')\n",
    "    ax1.hist(clf_scores)\n",
    "    ax2.boxplot(clf_scores)\n",
    "\n",
    "    print(\"Moyenne : \" + str(np.mean(clf_scores))+  \", Variance : \" + str(np.var(clf_scores)) + \", Écart-type : \" + str(np.std(clf_scores)))"
   ],
   "metadata": {
    "collapsed": false,
    "pycharm": {
     "name": "#%%\n"
    }
   }
  },
  {
   "cell_type": "code",
   "execution_count": 53,
   "outputs": [
    {
     "name": "stderr",
     "output_type": "stream",
     "text": [
      "100%|██████████| 100/100 [04:25<00:00,  2.66s/it]\n"
     ]
    },
    {
     "name": "stdout",
     "output_type": "stream",
     "text": [
      "Moyenne : 0.791111111111111, Variance : 0.0015608203244566884, Écart-type : 0.039507218637315995\n"
     ]
    },
    {
     "data": {
      "text/plain": "<Figure size 1440x360 with 2 Axes>",
      "image/png": "[encoded data removed]"
     },
     "metadata": {
      "needs_background": "light"
     },
     "output_type": "display_data"
    }
   ],
   "source": [
    "nb_runs = 100\n",
    "clf_scores = []\n",
    "for i in tqdm(range(nb_runs)):\n",
    "    X_train, X_test, y_train, y_test = train_test_split(X, y, test_size=0.20)\n",
    "    predicted_ys = []\n",
    "\n",
    "    for clf in classifieurs.keys():\n",
    "        train_representation = []\n",
    "        for file in X_train:\n",
    "            train_representation.append(classifieurs[clf][file])\n",
    "\n",
    "        test_representation = []\n",
    "        for file in X_test:\n",
    "            test_representation.append(classifieurs[clf][file])\n",
    "\n",
    "        clf.fit(train_representation, y_train)\n",
    "        predicted_ys.append(clf.predict(test_representation))\n",
    "\n",
    "    y_majority = majority_voting(predicted_ys)\n",
    "    clf_scores.append(accuracy_score(y_test, y_majority))\n",
    "plot_results(clf_scores)"
   ],
   "metadata": {
    "collapsed": false,
    "pycharm": {
     "name": "#%%\n"
    }
   }
  }
 ],
 "metadata": {
  "kernelspec": {
   "display_name": "Python 3 (ipykernel)",
   "language": "python",
   "name": "python3"
  },
  "language_info": {
   "codemirror_mode": {
    "name": "ipython",
    "version": 3
   },
   "file_extension": ".py",
   "mimetype": "text/x-python",
   "name": "python",
   "nbconvert_exporter": "python",
   "pygments_lexer": "ipython3",
   "version": "3.8.10"
  }
 },
 "nbformat": 4,
 "nbformat_minor": 5
}