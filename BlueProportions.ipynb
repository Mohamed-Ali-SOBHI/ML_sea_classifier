{
 "cells": [
  {
   "cell_type": "markdown",
   "id": "a820b776-798a-4a3f-b579-ff11789a5838",
   "metadata": {},
   "source": [
    "## Module d'apprentissage basé sur la proportion de bleu dans des plages de valeurs d'intensité des pixels\n",
    "\n",
    "Exemple : pour une plage = 50, nos plages seront 0-50 50-100 100-150.."
   ]
  },
  {
   "cell_type": "code",
   "execution_count": 2,
   "id": "a48060d3-b5b4-466c-bfcb-beb028924195",
   "metadata": {},
   "outputs": [],
   "source": [
    "import os\n",
    "from PIL import Image\n",
    "import matplotlib.pyplot as plt\n",
    "\n",
    "path_mer = 'Data/Mer/'\n",
    "path_ailleurs = 'Data/Ailleurs/'\n",
    "step = 25\n",
    "\n",
    "def get_image_data(img_path, reds=True, greens=True, blues=True, width=True, Height=True):\n",
    "    '''\n",
    "    Récupérer les données de l'image. On retourne un tuple contenant:\n",
    "    0 : liste pixels rouges\n",
    "    1 : \"     \"      verts\n",
    "    2 : \"     \"      bleus\n",
    "    3, 4: width, height\n",
    "    '''\n",
    "    img = Image.open(img_path)\n",
    "    img = img.convert('RGB')\n",
    "    w = img.width\n",
    "    h = img.height\n",
    "    r_, g_, b_ = img.split()\n",
    "    return (r_.histogram(), g_.histogram(), b_.histogram(), w, h)"
   ]
  },
  {
   "cell_type": "code",
   "execution_count": 3,
   "id": "66c2a2df-b842-4238-904e-b27e6c296be3",
   "metadata": {},
   "outputs": [],
   "source": [
    "def blue_intensity_proportions(images_path, step):\n",
    "    '''\n",
    "    Cette fonction retourne un dictionnaire {nom : liste(proportions)} pour toutes les images localisées dans le répertoire images_path.\n",
    "    Pour connaître la length des listes contenant les proportions, on peut faire (255 // step).\n",
    "    '''\n",
    "    proportions = {}\n",
    "\n",
    "    for file in os.listdir(images_path):\n",
    "        r, g, b = get_image_data(images_path + file)[:3]\n",
    "        props = []\n",
    "        nb_blues_tot = 0\n",
    "        nb_blues_step = 0\n",
    "        current_step = step\n",
    "\n",
    "        for intensity in range(255):\n",
    "            if intensity > current_step and intensity + step < 255:\n",
    "                props.append(nb_blues_step)\n",
    "                current_step += step\n",
    "                nb_blues_step = 0\n",
    "            nb_blues_step += b[intensity]\n",
    "            nb_blues_tot += b[intensity]\n",
    "        props.append(nb_blues_step)\n",
    "        proportions[file] = [prop / nb_blues_tot for prop in props]\n",
    "\n",
    "    return proportions\n",
    "\n",
    "# On calcule les proportions moyennes afin de visualiser la différence entre les photos dans le dossier mer et celles dans le dossier ailleurs\n",
    "def get_average_blue_intensity_proportions(images_path, step):\n",
    "    proportions = blue_intensity_proportions(images_path, step)\n",
    "    nb_values = len(proportions)\n",
    "    props_length = 255 // step\n",
    "    average_props = [0 for _ in range(props_length)]\n",
    "\n",
    "    for img in proportions:\n",
    "        props = proportions[img]\n",
    "        for i in range(props_length):\n",
    "             average_props[i] += props[i]\n",
    "    \n",
    "    return [avg_prop / nb_values for avg_prop in average_props]"
   ]
  },
  {
   "cell_type": "markdown",
   "id": "99f7d4ce-2589-4e89-a6d1-e3f42507bdad",
   "metadata": {},
   "source": [
    "## (i) Calcul des proportions pour chaque images"
   ]
  },
  {
   "cell_type": "code",
   "execution_count": 5,
   "id": "4c368ed4-7e3b-4c5b-8dc7-35b1471707cd",
   "metadata": {},
   "outputs": [],
   "source": [
    "avg_props_mer = get_average_blue_intensity_proportions(path_mer, step)\n",
    "avg_props_ailleurs = get_average_blue_intensity_proportions(path_ailleurs, step)"
   ]
  },
  {
   "cell_type": "code",
   "execution_count": 7,
   "id": "1709a7d7-4a2c-489b-a897-e7718bceaf71",
   "metadata": {},
   "outputs": [
    {
     "data": {
      "image/png": "[encoded data removed]",
      "text/plain": [
       "<Figure size 432x288 with 1 Axes>"
      ]
     },
     "metadata": {
      "needs_background": "light"
     },
     "output_type": "display_data"
    }
   ],
   "source": [
    "# Visualisation\n",
    "\n",
    "intensities =  [step * (i + 1) for i in range(255 // step)]\n",
    "\n",
    "plt.plot(intensities, avg_props_mer, '-b', label='mer')\n",
    "plt.plot(intensities, avg_props_ailleurs, '-r', label='ailleurs')\n",
    "\n",
    "plt.xticks(intensities)\n",
    "\n",
    "plt.legend();"
   ]
  },
  {
   "cell_type": "markdown",
   "id": "670b9f54-20e0-4da2-87dc-b5e62027d3a8",
   "metadata": {},
   "source": [
    "## (ii) Phase d'apprentissage"
   ]
  },
  {
   "cell_type": "code",
   "execution_count": 8,
   "id": "8d83ef88-b3da-4fae-bdbc-5f16cd573ac0",
   "metadata": {},
   "outputs": [],
   "source": [
    "X = []\n",
    "y = []\n",
    "proportions_mer =  blue_intensity_proportions(path_mer, step)\n",
    "proportions_ailleurs = blue_intensity_proportions(path_ailleurs, step)\n",
    "for img in proportions_mer.keys():\n",
    "    X.append(proportions_mer[img])\n",
    "    y.append(1)\n",
    "for img in proportions_ailleurs.keys():\n",
    "    X.append(proportions_ailleurs[img])\n",
    "    y.append(0)"
   ]
  },
  {
   "cell_type": "code",
   "execution_count": 9,
   "id": "9e517c2d-1750-4526-985c-bb130cc51e3f",
   "metadata": {},
   "outputs": [
    {
     "name": "stdout",
     "output_type": "stream",
     "text": [
      "0.7727710843373492\n"
     ]
    }
   ],
   "source": [
    "from sklearn.model_selection import train_test_split\n",
    "from sklearn.naive_bayes import GaussianNB\n",
    "from sklearn.metrics import accuracy_score\n",
    "classifieur = GaussianNB()\n",
    "\n",
    "average_accuracy = 0\n",
    "for i in range(50):\n",
    "    X_train, X_test, y_train, y_test = train_test_split(X, y, test_size=0.20)\n",
    "    classifieur.fit(X_train, y_train)\n",
    "    y_predits = classifieur.predict(X_test)\n",
    "    average_accuracy += accuracy_score(y_test, y_predits)\n",
    "average_accuracy /= 50\n",
    "print(average_accuracy)"
   ]
  }
 ],
 "metadata": {
  "kernelspec": {
   "display_name": "Python 3 (ipykernel)",
   "language": "python",
   "name": "python3"
  },
  "language_info": {
   "codemirror_mode": {
    "name": "ipython",
    "version": 3
   },
   "file_extension": ".py",
   "mimetype": "text/x-python",
   "name": "python",
   "nbconvert_exporter": "python",
   "pygments_lexer": "ipython3",
   "version": "3.8.10"
  }
 },
 "nbformat": 4,
 "nbformat_minor": 5
}
