{
 "cells": [
  {
   "cell_type": "markdown",
   "id": "7df51d0c",
   "metadata": {},
   "source": [
    "## Data Initialisation"
   ]
  },
  {
   "cell_type": "markdown",
   "id": "526a2e56",
   "metadata": {},
   "source": [
    "Define X and y here"
   ]
  },
  {
   "cell_type": "code",
   "execution_count": 1,
   "id": "27a3d3e1",
   "metadata": {},
   "outputs": [
    {
     "name": "stderr",
     "output_type": "stream",
     "text": [
      "100%|████████████████████████████████████████| 207/207 [00:01<00:00, 182.24it/s]\n",
      "100%|████████████████████████████████████████| 201/201 [00:00<00:00, 205.34it/s]\n"
     ]
    }
   ],
   "source": [
    "import cv2 \n",
    "import matplotlib.pyplot as plt\n",
    "from skimage.feature import graycomatrix, graycoprops\n",
    "import numpy as np\n",
    "from tqdm import tqdm\n",
    "import os\n",
    "\n",
    "X = []\n",
    "y = []\n",
    "w = 1200\n",
    "\n",
    "for file in tqdm(os.listdir(\"./Data/Ailleurs\")):\n",
    "    image = cv2.imread (\"./Data/Ailleurs/\" + file ,0)\n",
    "    cv2.resize(image, (w,w))\n",
    "    glcm = graycomatrix(image, distances=[5], angles=[0], levels=256,\n",
    "                        symmetric=True, normed=True)\n",
    "    \n",
    "    img_data = []\n",
    "    img_data.append(graycoprops(glcm, 'contrast')[0, 0])\n",
    "    img_data.append(graycoprops(glcm, 'dissimilarity')[0, 0])\n",
    "    img_data.append(graycoprops(glcm, 'homogeneity')[0, 0])\n",
    "#     img_data.append(graycoprops(glcm, 'ASM')[0, 0])\n",
    "#     img_data.append(graycoprops(glcm, 'energy')[0, 0])\n",
    "    img_data.append(graycoprops(glcm, 'correlation')[0, 0])\n",
    "    \n",
    "    X.append(img_data)\n",
    "    y.append(0)\n",
    "    \n",
    "    \n",
    "for file in tqdm(os.listdir(\"./Data/Mer\")):\n",
    "    image = cv2.imread (\"./Data/Mer/\" + file ,0)\n",
    "    cv2.resize(image, (w,w))\n",
    "    glcm = graycomatrix(image, distances=[5], angles=[0], levels=256,\n",
    "                        symmetric=True, normed=True)\n",
    "    img_data = []\n",
    "    img_data.append(graycoprops(glcm, 'contrast')[0, 0])\n",
    "    img_data.append(graycoprops(glcm, 'dissimilarity')[0, 0])\n",
    "    img_data.append(graycoprops(glcm, 'homogeneity')[0, 0])\n",
    "#     img_data.append(graycoprops(glcm, 'ASM')[0, 0])\n",
    "#     img_data.append(graycoprops(glcm, 'energy')[0, 0])\n",
    "    img_data.append(graycoprops(glcm, 'correlation')[0, 0])\n",
    "    \n",
    "    X.append(img_data)\n",
    "    y.append(1)"
   ]
  },
  {
   "cell_type": "code",
   "execution_count": 10,
   "id": "91368578",
   "metadata": {},
   "outputs": [
    {
     "name": "stderr",
     "output_type": "stream",
     "text": [
      "100%|█████████████████████████████████████████| 207/207 [03:40<00:00,  1.07s/it]\n",
      "100%|█████████████████████████████████████████| 206/206 [02:53<00:00,  1.19it/s]\n"
     ]
    }
   ],
   "source": [
    "import os\n",
    "from PIL import Image\n",
    "import matplotlib.pyplot as plt\n",
    "from tqdm import tqdm\n",
    "\n",
    "def get_histogram(filename):\n",
    "    r = []\n",
    "    g = []\n",
    "    b = []\n",
    "\n",
    "    for i in range(256):\n",
    "        r.append(0)\n",
    "        g.append(0)\n",
    "        b.append(0)\n",
    "\n",
    "    image = Image.open(filename)\n",
    "    image = image.convert(\"RGB\")\n",
    "\n",
    "    for i in range(image.width):\n",
    "        for j in range(image.height):\n",
    "            r_pxl, g_pxl, b_pxl = image.getpixel((i, j))\n",
    "            r[r_pxl] += 1 / (image.width * image.height)\n",
    "            g[g_pxl] += 1 / (image.width * image.height)\n",
    "            b[b_pxl] += 1 / (image.width * image.height)\n",
    "    return r, g, b\n",
    "\n",
    "X = []\n",
    "y = []\n",
    "\n",
    "for file in tqdm(os.listdir(\"./Data/Ailleurs\")):\n",
    "    r, g, b = get_histogram(\"./Data/Ailleurs/\" + file)\n",
    "    data = g\n",
    "    data.extend(b)\n",
    "    X.append(data)\n",
    "    y.append(0)\n",
    "    \n",
    "for file in tqdm(os.listdir(\"./Data/Mer\")):\n",
    "    r, g, b = get_histogram(\"./Data/Mer/\" + file)\n",
    "    data = g\n",
    "    data.extend(b)\n",
    "    X.append(data)\n",
    "    y.append(1)"
   ]
  },
  {
   "cell_type": "code",
   "execution_count": 1,
   "id": "f79c4fcc",
   "metadata": {},
   "outputs": [
    {
     "name": "stderr",
     "output_type": "stream",
     "text": [
      "100%|█████████████████████████████████████████| 207/207 [00:13<00:00, 14.82it/s]\n",
      "100%|█████████████████████████████████████████| 206/206 [00:13<00:00, 15.45it/s]\n"
     ]
    }
   ],
   "source": [
    "import os\n",
    "import numpy as np\n",
    "import matplotlib.pyplot as plt\n",
    "from skimage.feature import hog\n",
    "from skimage import data, exposure\n",
    "from skimage.io import imread\n",
    "from skimage.transform import rescale, resize\n",
    "from tqdm import tqdm\n",
    "\n",
    "X = []\n",
    "y = []\n",
    "\n",
    "w = 1200\n",
    "scale = 1/3\n",
    "ppc = (16,16) # pixels_per_cell\n",
    "cpb = (1,1) # cells_per_block\n",
    "ori = 16 # orientations\n",
    "bln = 'L2' # {‘L1’, ‘L1-sqrt’, ‘L2’, ‘L2-Hys’}\n",
    "\n",
    "for file in tqdm(os.listdir(\"./Data/Ailleurs\")):\n",
    "    image = imread('./Data/Ailleurs/' + file, as_gray=True)\n",
    "    image = resize(image, (w, w))\n",
    "    image = rescale(image, scale, mode='reflect')\n",
    "    \n",
    "    img_hog = hog(image, orientations=ori, pixels_per_cell=ppc,\n",
    "                    cells_per_block=cpb, feature_vector=True, block_norm=bln)\n",
    "    \n",
    "    X.append(img_hog)\n",
    "    y.append(0)\n",
    "    \n",
    "for file in tqdm(os.listdir(\"./Data/Mer\")):\n",
    "    image = imread('./Data/Mer/' + file, as_gray=True)\n",
    "    image = resize(image, (w, w))\n",
    "    image = rescale(image, scale, mode='reflect')\n",
    "    \n",
    "    img_hog = hog(image, orientations=ori, pixels_per_cell=ppc,\n",
    "                    cells_per_block=cpb, feature_vector=True, block_norm=bln)\n",
    "    \n",
    "    X.append(img_hog)\n",
    "    y.append(1)"
   ]
  },
  {
   "cell_type": "markdown",
   "id": "db86a778",
   "metadata": {},
   "source": [
    "## Classifiers Comparison"
   ]
  },
  {
   "cell_type": "code",
   "execution_count": 2,
   "id": "0f769dd9",
   "metadata": {},
   "outputs": [
    {
     "name": "stderr",
     "output_type": "stream",
     "text": [
      "100%|██████████████████████████████████████████| 20/20 [00:00<00:00, 943.05it/s]\n",
      "100%|██████████████████████████████████████████| 20/20 [00:00<00:00, 126.22it/s]\n",
      "100%|███████████████████████████████████████████| 20/20 [00:00<00:00, 26.22it/s]\n",
      "100%|██████████████████████████████████████████| 20/20 [00:00<00:00, 808.34it/s]\n",
      "100%|███████████████████████████████████████████| 20/20 [00:02<00:00,  9.87it/s]\n",
      "100%|██████████████████████████████████████████| 20/20 [00:00<00:00, 234.97it/s]\n",
      "100%|███████████████████████████████████████████| 20/20 [00:34<00:00,  1.75s/it]\n",
      "100%|███████████████████████████████████████████| 20/20 [00:07<00:00,  2.69it/s]\n"
     ]
    }
   ],
   "source": [
    "from tqdm import tqdm\n",
    "from sklearn.model_selection import train_test_split\n",
    "from sklearn.metrics import accuracy_score\n",
    "from sklearn.naive_bayes import GaussianNB\n",
    "from sklearn.ensemble import RandomForestClassifier, AdaBoostClassifier\n",
    "from sklearn.tree import DecisionTreeClassifier\n",
    "from sklearn.neural_network import MLPClassifier\n",
    "from sklearn.svm import SVC\n",
    "\n",
    "from sklearn.gaussian_process import GaussianProcessClassifier\n",
    "from sklearn.gaussian_process.kernels import RBF\n",
    "\n",
    "from sklearn.neighbors import KNeighborsClassifier\n",
    "\n",
    "classifiers = {\n",
    "    \"GaussianNB\" : GaussianNB(),\n",
    "    \"RandomForestClassifier\" : RandomForestClassifier(max_depth=5, n_estimators=10, max_features=1),\n",
    "    \"AdaBoostClassifier\" : AdaBoostClassifier(),\n",
    "    \"DecisionTreeClassifier\" : DecisionTreeClassifier(max_depth=5),\n",
    "    \"MLPClassifier\" : MLPClassifier(alpha=1, max_iter=1000),\n",
    "    \"KNeighborsClassifier\" : KNeighborsClassifier(3),\n",
    "    \"GaussianProcessClassifier\" : GaussianProcessClassifier(1.0 * RBF(1.0)),\n",
    "    \"LinearSVM\": SVC(kernel=\"linear\", C=0.025)\n",
    "}\n",
    "\n",
    "clf_scores = {}\n",
    "\n",
    "for clf_name in classifiers:\n",
    "    clf = classifiers[clf_name]\n",
    "    clf_score = 0\n",
    "    \n",
    "    # average on 20 runs\n",
    "    for i in tqdm(range(20)):\n",
    "        X_train, X_test, y_train, y_test = train_test_split(X, y, test_size=0.20)\n",
    "        clf.fit(X_train, y_train)\n",
    "        y_predits = clf.predict(X_test)\n",
    "        clf_score += accuracy_score(y_test, y_predits)\n",
    "    clf_score /= 20\n",
    "    clf_scores[clf_name] = clf_score"
   ]
  },
  {
   "cell_type": "code",
   "execution_count": 5,
   "id": "dcd9acb6",
   "metadata": {},
   "outputs": [
    {
     "name": "stderr",
     "output_type": "stream",
     "text": [
      "100%|███████████████████████████████████████████| 50/50 [00:20<00:00,  2.39it/s]\n"
     ]
    },
    {
     "data": {
      "text/plain": [
       "0.7571084337349396"
      ]
     },
     "execution_count": 5,
     "metadata": {},
     "output_type": "execute_result"
    }
   ],
   "source": [
    "from sklearn.svm import SVC\n",
    "from sklearn.model_selection import train_test_split\n",
    "from sklearn.metrics import accuracy_score\n",
    "from tqdm import tqdm\n",
    "clf = SVC()\n",
    "clf_score = 0\n",
    "    \n",
    "# average on 50 runs\n",
    "for i in tqdm(range(50)):\n",
    "    X_train, X_test, y_train, y_test = train_test_split(X, y, test_size=0.20)\n",
    "    clf.fit(X_train, y_train)\n",
    "    y_predits = clf.predict(X_test)\n",
    "    clf_score += accuracy_score(y_test, y_predits)\n",
    "clf_score /= 50\n",
    "clf_score"
   ]
  },
  {
   "cell_type": "markdown",
   "id": "72516929",
   "metadata": {},
   "source": [
    "#### Sort and print the results"
   ]
  },
  {
   "cell_type": "code",
   "execution_count": 3,
   "id": "21c5810c",
   "metadata": {},
   "outputs": [
    {
     "data": {
      "text/plain": [
       "{'LinearSVM': 0.7182926829268294,\n",
       " 'GaussianNB': 0.7060975609756098,\n",
       " 'RandomForestClassifier': 0.6865853658536585,\n",
       " 'GaussianProcessClassifier': 0.6737804878048779,\n",
       " 'AdaBoostClassifier': 0.6658536585365854,\n",
       " 'DecisionTreeClassifier': 0.6469512195121949,\n",
       " 'MLPClassifier': 0.6426829268292683,\n",
       " 'KNeighborsClassifier': 0.6073170731707318}"
      ]
     },
     "execution_count": 3,
     "metadata": {},
     "output_type": "execute_result"
    }
   ],
   "source": [
    "clf_scores = dict(sorted(clf_scores.items(), key=lambda item: item[1], reverse=True))\n",
    "clf_scores"
   ]
  },
  {
   "cell_type": "markdown",
   "id": "cec37b5a",
   "metadata": {},
   "source": [
    "#### Visualisation"
   ]
  },
  {
   "cell_type": "code",
   "execution_count": 4,
   "id": "3a499531",
   "metadata": {},
   "outputs": [
    {
     "data": {
      "image/png": "[encoded data removed]",
      "text/plain": [
       "<Figure size 1080x360 with 1 Axes>"
      ]
     },
     "metadata": {
      "needs_background": "light"
     },
     "output_type": "display_data"
    }
   ],
   "source": [
    "import matplotlib.pyplot as plt\n",
    "plt.figure(figsize=(15,5))\n",
    "plt.ylim([0.5, 1])\n",
    "plt.bar(clf_scores.keys(), clf_scores.values(), width=0.25);"
   ]
  }
 ],
 "metadata": {
  "kernelspec": {
   "display_name": "Python 3 (ipykernel)",
   "language": "python",
   "name": "python3"
  },
  "language_info": {
   "codemirror_mode": {
    "name": "ipython",
    "version": 3
   },
   "file_extension": ".py",
   "mimetype": "text/x-python",
   "name": "python",
   "nbconvert_exporter": "python",
   "pygments_lexer": "ipython3",
   "version": "3.8.10"
  }
 },
 "nbformat": 4,
 "nbformat_minor": 5
}
