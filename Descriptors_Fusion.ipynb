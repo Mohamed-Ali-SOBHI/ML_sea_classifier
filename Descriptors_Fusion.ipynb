{
 "cells": [
  {
   "cell_type": "markdown",
   "source": [
    "## On va tenter de fusionner nos modèles de manière précoce."
   ],
   "metadata": {
    "collapsed": false,
    "pycharm": {
     "name": "#%% md\n"
    }
   },
   "outputs": [],
   "execution_count": 1
  },
  {
   "cell_type": "markdown",
   "source": [
    "Pour chaque descripteur (pour le moment sans les textures car le descripteur courant est trop complexe pour une simple concaténation),\n",
    "on récupère et standardise nos données.\n",
    "Pour le choix du classifieur, on peut supposer de manière intuitive que les arbres de décision pourront avoir de bonnes performances."
   ],
   "metadata": {
    "collapsed": false,
    "pycharm": {
     "name": "#%% md\n"
    }
   }
  },
  {
   "cell_type": "code",
   "execution_count": 1,
   "outputs": [],
   "source": [
    "import descriptor as dscr\n",
    "\n",
    "hog_descr = dscr.HogDescriptor()\n",
    "hist_descr = dscr.HistogramDescriptor(q_factor=8)"
   ],
   "metadata": {
    "collapsed": false,
    "pycharm": {
     "name": "#%%\n"
    }
   }
  },
  {
   "cell_type": "code",
   "execution_count": 2,
   "outputs": [
    {
     "name": "stdout",
     "output_type": "stream",
     "text": [
      "constructing model..\n"
     ]
    },
    {
     "name": "stderr",
     "output_type": "stream",
     "text": [
      "100%|██████████| 206/206 [00:43<00:00,  4.77it/s]\n",
      "100%|██████████| 207/207 [00:46<00:00,  4.44it/s]\n"
     ]
    },
    {
     "name": "stdout",
     "output_type": "stream",
     "text": [
      "constructing model..\n"
     ]
    },
    {
     "name": "stderr",
     "output_type": "stream",
     "text": [
      "100%|██████████| 206/206 [00:02<00:00, 83.06it/s] \n",
      "100%|██████████| 207/207 [00:03<00:00, 68.91it/s]\n"
     ]
    }
   ],
   "source": [
    "hog_descr.reset()\n",
    "hog_descr.construct()\n",
    "hist_descr.reset()\n",
    "hist_descr.construct()"
   ],
   "metadata": {
    "collapsed": false,
    "pycharm": {
     "name": "#%%\n"
    }
   }
  },
  {
   "cell_type": "code",
   "execution_count": null,
   "outputs": [],
   "source": [
    "# Concaténation des descripteurs\n",
    "X = []\n",
    "y = hog_descr.y_model\n",
    "for i in range(len(hog_descr.X_model)):\n",
    "    X.append(list(hog_descr.X_model[i]) + hist_descr.X_model[i])\n",
    "print(X)"
   ],
   "metadata": {
    "collapsed": false,
    "pycharm": {
     "name": "#%%\n",
     "is_executing": true
    }
   }
  },
  {
   "cell_type": "code",
   "execution_count": 6,
   "outputs": [],
   "source": [
    "# standardisation, voire https://scikit-learn.org/stable/modules/preprocessing.html#preprocessing-scaler\n",
    "from sklearn import preprocessing\n",
    "\n",
    "scaler = preprocessing.StandardScaler().fit(X)\n",
    "X_scaled = scaler.transform(X)"
   ],
   "metadata": {
    "collapsed": false,
    "pycharm": {
     "name": "#%%\n"
    }
   }
  },
  {
   "cell_type": "code",
   "execution_count": 8,
   "outputs": [
    {
     "name": "stderr",
     "output_type": "stream",
     "text": [
      "100%|██████████| 50/50 [00:48<00:00,  1.03it/s]"
     ]
    },
    {
     "name": "stdout",
     "output_type": "stream",
     "text": [
      "0.7631325301204819\n"
     ]
    },
    {
     "name": "stderr",
     "output_type": "stream",
     "text": [
      "\n"
     ]
    }
   ],
   "source": [
    "from tqdm import tqdm\n",
    "from sklearn.metrics import accuracy_score\n",
    "from sklearn.model_selection import train_test_split\n",
    "from sklearn.svm import SVC\n",
    "\n",
    "clf = SVC()\n",
    "average_accuracy = 0\n",
    "for i in tqdm(range(50)):\n",
    "    X_train, X_test, y_train, y_test = train_test_split(X, y, test_size=0.20)\n",
    "    clf.fit(X_train, y_train)\n",
    "    y_predits = clf.predict(X_test)\n",
    "    average_accuracy += accuracy_score(y_test, y_predits)\n",
    "average_accuracy /= 50\n",
    "print(average_accuracy)"
   ],
   "metadata": {
    "collapsed": false,
    "pycharm": {
     "name": "#%%\n"
    }
   }
  },
  {
   "cell_type": "code",
   "execution_count": null,
   "outputs": [],
   "source": [],
   "metadata": {
    "collapsed": false,
    "pycharm": {
     "name": "#%%\n"
    }
   }
  }
 ],
 "metadata": {
  "kernelspec": {
   "display_name": "Python 3",
   "language": "python",
   "name": "python3"
  },
  "language_info": {
   "codemirror_mode": {
    "name": "ipython",
    "version": 2
   },
   "file_extension": ".py",
   "mimetype": "text/x-python",
   "name": "python",
   "nbconvert_exporter": "python",
   "pygments_lexer": "ipython2",
   "version": "2.7.6"
  }
 },
 "nbformat": 4,
 "nbformat_minor": 0
}